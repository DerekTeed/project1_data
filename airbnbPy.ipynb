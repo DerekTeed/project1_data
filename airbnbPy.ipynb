{
 "cells": [
  {
   "cell_type": "code",
   "execution_count": 1,
   "metadata": {},
   "outputs": [],
   "source": [
    "# Dependencies and Setup\n",
    "import matplotlib.pyplot as plt\n",
    "import gmaps\n",
    "import pandas as pd\n",
    "import numpy as np\n",
    "import scipy.stats as st\n",
    "from scipy import stats\n",
    "import requests\n",
    "import time\n",
    "import os\n",
    "from scipy.stats import linregress\n",
    "\n",
    "# Output File (CSV)\n",
    "output_data_file20 = \"csv_folder/2020/03.csv\"\n",
    "output_data_file19 = \"csv_folder/2019/03.csv\"\n",
    "output_data_file18 = \"csv_folder/2018/03.csv\"\n",
    "output_data_file17 = \"csv_folder/2017/03.csv\"\n",
    "output_data_file16 = \"csv_folder/2016/05.csv\"\n",
    "output_data_file15 = \"csv_folder/2015/05.csv\"\n",
    "# Range of latitudes and longitudes\n",
    "lat_range = (-90, 90)\n",
    "lng_range = (-180, 180)\n",
    "import gmaps\n",
    "\n",
    "from api_keys import g_key"
   ]
  },
  {
   "cell_type": "code",
   "execution_count": 2,
   "metadata": {},
   "outputs": [
    {
     "data": {
      "text/html": [
       "<div>\n",
       "<style scoped>\n",
       "    .dataframe tbody tr th:only-of-type {\n",
       "        vertical-align: middle;\n",
       "    }\n",
       "\n",
       "    .dataframe tbody tr th {\n",
       "        vertical-align: top;\n",
       "    }\n",
       "\n",
       "    .dataframe thead th {\n",
       "        text-align: right;\n",
       "    }\n",
       "</style>\n",
       "<table border=\"1\" class=\"dataframe\">\n",
       "  <thead>\n",
       "    <tr style=\"text-align: right;\">\n",
       "      <th></th>\n",
       "      <th>id</th>\n",
       "      <th>listing_url</th>\n",
       "      <th>host_id</th>\n",
       "      <th>host_url</th>\n",
       "      <th>host_name</th>\n",
       "      <th>host_is_superhost</th>\n",
       "      <th>host_neighbourhood</th>\n",
       "      <th>host_listings_count</th>\n",
       "      <th>street</th>\n",
       "      <th>neighbourhood</th>\n",
       "      <th>...</th>\n",
       "      <th>has_availability</th>\n",
       "      <th>number_of_reviews</th>\n",
       "      <th>number_of_reviews_ltm</th>\n",
       "      <th>review_scores_rating</th>\n",
       "      <th>require_guest_profile_picture</th>\n",
       "      <th>calculated_host_listings_count</th>\n",
       "      <th>calculated_host_listings_count_entire_homes</th>\n",
       "      <th>calculated_host_listings_count_private_rooms</th>\n",
       "      <th>reviews_per_month</th>\n",
       "      <th>host_acceptance_rate</th>\n",
       "    </tr>\n",
       "  </thead>\n",
       "  <tbody>\n",
       "    <tr>\n",
       "      <td>0</td>\n",
       "      <td>109</td>\n",
       "      <td>https://www.airbnb.com/rooms/109</td>\n",
       "      <td>521</td>\n",
       "      <td>https://www.airbnb.com/users/show/521</td>\n",
       "      <td>Paolo</td>\n",
       "      <td>f</td>\n",
       "      <td>Culver City</td>\n",
       "      <td>1.0</td>\n",
       "      <td>Culver City, CA, United States</td>\n",
       "      <td>Culver City</td>\n",
       "      <td>...</td>\n",
       "      <td>t</td>\n",
       "      <td>2</td>\n",
       "      <td>0</td>\n",
       "      <td>80.0</td>\n",
       "      <td>t</td>\n",
       "      <td>1</td>\n",
       "      <td>1</td>\n",
       "      <td>0</td>\n",
       "      <td>0.02</td>\n",
       "      <td>0.00</td>\n",
       "    </tr>\n",
       "    <tr>\n",
       "      <td>1</td>\n",
       "      <td>344</td>\n",
       "      <td>https://www.airbnb.com/rooms/344</td>\n",
       "      <td>767</td>\n",
       "      <td>https://www.airbnb.com/users/show/767</td>\n",
       "      <td>Melissa</td>\n",
       "      <td>f</td>\n",
       "      <td>Burbank</td>\n",
       "      <td>1.0</td>\n",
       "      <td>Burbank, CA, United States</td>\n",
       "      <td>Burbank</td>\n",
       "      <td>...</td>\n",
       "      <td>t</td>\n",
       "      <td>8</td>\n",
       "      <td>2</td>\n",
       "      <td>97.0</td>\n",
       "      <td>f</td>\n",
       "      <td>1</td>\n",
       "      <td>1</td>\n",
       "      <td>0</td>\n",
       "      <td>0.18</td>\n",
       "      <td>0.22</td>\n",
       "    </tr>\n",
       "    <tr>\n",
       "      <td>2</td>\n",
       "      <td>2708</td>\n",
       "      <td>https://www.airbnb.com/rooms/2708</td>\n",
       "      <td>3008</td>\n",
       "      <td>https://www.airbnb.com/users/show/3008</td>\n",
       "      <td>Chas.</td>\n",
       "      <td>t</td>\n",
       "      <td>Hollywood</td>\n",
       "      <td>2.0</td>\n",
       "      <td>Los Angeles, CA, United States</td>\n",
       "      <td>Hollywood</td>\n",
       "      <td>...</td>\n",
       "      <td>t</td>\n",
       "      <td>23</td>\n",
       "      <td>8</td>\n",
       "      <td>98.0</td>\n",
       "      <td>f</td>\n",
       "      <td>2</td>\n",
       "      <td>0</td>\n",
       "      <td>2</td>\n",
       "      <td>0.33</td>\n",
       "      <td>0.94</td>\n",
       "    </tr>\n",
       "    <tr>\n",
       "      <td>3</td>\n",
       "      <td>2732</td>\n",
       "      <td>https://www.airbnb.com/rooms/2732</td>\n",
       "      <td>3041</td>\n",
       "      <td>https://www.airbnb.com/users/show/3041</td>\n",
       "      <td>Yoga Priestess</td>\n",
       "      <td>f</td>\n",
       "      <td>Santa Monica</td>\n",
       "      <td>2.0</td>\n",
       "      <td>Santa Monica, CA, United States</td>\n",
       "      <td>Santa Monica</td>\n",
       "      <td>...</td>\n",
       "      <td>t</td>\n",
       "      <td>21</td>\n",
       "      <td>3</td>\n",
       "      <td>94.0</td>\n",
       "      <td>f</td>\n",
       "      <td>2</td>\n",
       "      <td>1</td>\n",
       "      <td>1</td>\n",
       "      <td>0.20</td>\n",
       "      <td>0.75</td>\n",
       "    </tr>\n",
       "    <tr>\n",
       "      <td>4</td>\n",
       "      <td>2864</td>\n",
       "      <td>https://www.airbnb.com/rooms/2864</td>\n",
       "      <td>3207</td>\n",
       "      <td>https://www.airbnb.com/users/show/3207</td>\n",
       "      <td>Bernadine</td>\n",
       "      <td>f</td>\n",
       "      <td>Bellflower</td>\n",
       "      <td>1.0</td>\n",
       "      <td>Bellflower, CA, United States</td>\n",
       "      <td>Bellflower</td>\n",
       "      <td>...</td>\n",
       "      <td>t</td>\n",
       "      <td>0</td>\n",
       "      <td>0</td>\n",
       "      <td>NaN</td>\n",
       "      <td>f</td>\n",
       "      <td>1</td>\n",
       "      <td>1</td>\n",
       "      <td>0</td>\n",
       "      <td>NaN</td>\n",
       "      <td>NaN</td>\n",
       "    </tr>\n",
       "  </tbody>\n",
       "</table>\n",
       "<p>5 rows × 42 columns</p>\n",
       "</div>"
      ],
      "text/plain": [
       "     id                        listing_url  host_id  \\\n",
       "0   109   https://www.airbnb.com/rooms/109      521   \n",
       "1   344   https://www.airbnb.com/rooms/344      767   \n",
       "2  2708  https://www.airbnb.com/rooms/2708     3008   \n",
       "3  2732  https://www.airbnb.com/rooms/2732     3041   \n",
       "4  2864  https://www.airbnb.com/rooms/2864     3207   \n",
       "\n",
       "                                 host_url       host_name host_is_superhost  \\\n",
       "0   https://www.airbnb.com/users/show/521           Paolo                 f   \n",
       "1   https://www.airbnb.com/users/show/767         Melissa                 f   \n",
       "2  https://www.airbnb.com/users/show/3008           Chas.                 t   \n",
       "3  https://www.airbnb.com/users/show/3041  Yoga Priestess                 f   \n",
       "4  https://www.airbnb.com/users/show/3207       Bernadine                 f   \n",
       "\n",
       "  host_neighbourhood  host_listings_count                           street  \\\n",
       "0        Culver City                  1.0   Culver City, CA, United States   \n",
       "1            Burbank                  1.0       Burbank, CA, United States   \n",
       "2          Hollywood                  2.0   Los Angeles, CA, United States   \n",
       "3       Santa Monica                  2.0  Santa Monica, CA, United States   \n",
       "4         Bellflower                  1.0    Bellflower, CA, United States   \n",
       "\n",
       "  neighbourhood  ... has_availability number_of_reviews  \\\n",
       "0   Culver City  ...                t                 2   \n",
       "1       Burbank  ...                t                 8   \n",
       "2     Hollywood  ...                t                23   \n",
       "3  Santa Monica  ...                t                21   \n",
       "4    Bellflower  ...                t                 0   \n",
       "\n",
       "   number_of_reviews_ltm  review_scores_rating require_guest_profile_picture  \\\n",
       "0                      0                  80.0                             t   \n",
       "1                      2                  97.0                             f   \n",
       "2                      8                  98.0                             f   \n",
       "3                      3                  94.0                             f   \n",
       "4                      0                   NaN                             f   \n",
       "\n",
       "  calculated_host_listings_count calculated_host_listings_count_entire_homes  \\\n",
       "0                              1                                           1   \n",
       "1                              1                                           1   \n",
       "2                              2                                           0   \n",
       "3                              2                                           1   \n",
       "4                              1                                           1   \n",
       "\n",
       "   calculated_host_listings_count_private_rooms  reviews_per_month  \\\n",
       "0                                             0               0.02   \n",
       "1                                             0               0.18   \n",
       "2                                             2               0.33   \n",
       "3                                             1               0.20   \n",
       "4                                             0                NaN   \n",
       "\n",
       "   host_acceptance_rate  \n",
       "0                  0.00  \n",
       "1                  0.22  \n",
       "2                  0.94  \n",
       "3                  0.75  \n",
       "4                   NaN  \n",
       "\n",
       "[5 rows x 42 columns]"
      ]
     },
     "execution_count": 2,
     "metadata": {},
     "output_type": "execute_result"
    }
   ],
   "source": [
    "air_df = pd.read_csv(output_data_file20)\n",
    "\n",
    "air_df1 = pd.read_csv(output_data_file15)\n",
    "air_df.head()"
   ]
  },
  {
   "cell_type": "markdown",
   "metadata": {},
   "source": [
    "# Variable Lists\n"
   ]
  },
  {
   "cell_type": "code",
   "execution_count": 3,
   "metadata": {},
   "outputs": [
    {
     "name": "stdout",
     "output_type": "stream",
     "text": [
      "https://maps.googleapis.com/maps/api/place/nearbysearch/json\n"
     ]
    }
   ],
   "source": [
    "\n",
    "record_counter = 0\n",
    "set_counter = 0\n",
    "# Starting URL for Weather Map API Call\n",
    "url = \"https://maps.googleapis.com/maps/api/place/nearbysearch/json\" + g_key\n",
    "print(url)\n",
    "# print('Start of Request')\n",
    "\n",
    "\n",
    "# for city in cities:\n",
    "#     query_url = url + \"&q=\" + city\n",
    "#     # Get weather data\n",
    "#     response = requests.get(query_url).json()\n",
    "#     if record_counter < 40:  \n",
    "#         record_counter += 1\n",
    "#     else:\n",
    "#         set_counter += 1\n",
    "#         record_counter = 0\n",
    "\n",
    "#     print('Processing record {} of set {} -> {}'.format(record_counter, set_counter, city))\n",
    "# #     print(url)\n",
    "#     try:\n",
    "        \n",
    "#         cloud.append(response['clouds']['all'])\n",
    "#         humidity.append(response['main']['humidity'])\n",
    "#         temperature.append(response['main']['temp_max'])\n",
    "#         latitude.append(response['coord']['lat'])\n",
    "#         longitude.append(response['coord']['lon'])\n",
    "#         wind.append(response['wind']['speed'])\n",
    "#         country.append(response['sys']['country'])\n",
    "#         date.append(response['dt'])\n",
    "#         new_cities.append(city)\n",
    "#     except:\n",
    "#         print(\"City not found!\")\n",
    "#         pass\n",
    "\n",
    "# print('End of Data')"
   ]
  },
  {
   "cell_type": "code",
   "execution_count": 4,
   "metadata": {},
   "outputs": [],
   "source": [
    "# air_df= air_df['Price']\n",
    "# c = air_df.loc[(air_df['price'] > 9999)]\n",
    "# c\n"
   ]
  },
  {
   "cell_type": "code",
   "execution_count": 5,
   "metadata": {},
   "outputs": [
    {
     "data": {
      "image/png": "[encoded data removed]",
      "text/plain": [
       "<Figure size 432x288 with 1 Axes>"
      ]
     },
     "metadata": {},
     "output_type": "display_data"
    }
   ],
   "source": [
    "# Show the number of landlords by how many listings they have?\n",
    "host_number = air_df.groupby(['host_id'])\n",
    "# host_number = host_number.groupyby(['host_id'])\n",
    "host_number = host_number.count()\n",
    "#22274 hosts or landlords\n",
    "#host_number.count()\n",
    "\n",
    "host_number1 = host_number.loc[(host_number['id']) == 1]\n",
    "host_number1 = host_number1['id'].count()\n",
    "#16919 landlords with 1 listing only\n",
    "# host_number1\n",
    "\n",
    "host_number2 = host_number.loc[(host_number['id'] >= 2) & (host_number['id'] < 5)]\n",
    "host_number2 = host_number2['id'].count()\n",
    "#4339 landlords with 2-4 listings only\n",
    "# host_number2\n",
    "\n",
    "host_number5 = host_number.loc[(host_number['id'] >= 5)]\n",
    "host_number5 = host_number5['id'].count()\n",
    "#20 landlords with 50+ listings only\n",
    "# host_number5\n",
    "\n",
    "labels = '1 listing only', '2-4 listings', '5+ listings'\n",
    "sizes = [host_number1, host_number2, host_number5]\n",
    "explode = (0, 0.1, 0)  # only \"explode\" the 2nd slice (i.e. 'Hogs')\n",
    "\n",
    "fig1, ax1 = plt.subplots()\n",
    "ax1.pie(sizes, explode=explode, labels=labels, autopct='%1.1f%%',\n",
    "        shadow=True, startangle=90)\n",
    "ax1.axis('equal')  # Equal aspect ratio ensures that pie is drawn as a circle.\n",
    "plt.title(\"Number of Landlords by Number of Listings\")\n",
    "plt.show()\n"
   ]
  },
  {
   "cell_type": "code",
   "execution_count": 6,
   "metadata": {
    "scrolled": false
   },
   "outputs": [
    {
     "data": {
      "image/png": "[encoded data removed]",
      "text/plain": [
       "<Figure size 432x288 with 1 Axes>"
      ]
     },
     "metadata": {
      "needs_background": "light"
     },
     "output_type": "display_data"
    }
   ],
   "source": [
    "# Q Any relationship between the number of reviews_per_month and price per night for 1 bedroom listings \n",
    "# Varables: [‘price’] and [‘reviews_per_month’] where [‘bedrooms’] == 1\n",
    "# H The higher number of reviews per month has a positive correlation with the price per night\n",
    "# T-Test\n",
    "# H0: μb = μ a\n",
    "\n",
    "new_df1 = air_df.loc[(air_df['bedrooms'] == 1)]\n",
    "new_df1 = new_df1.loc[(air_df['price'] < 5000)]\n",
    "new_df1 = new_df1.loc[(air_df['price'] == 20)]\n",
    "reviews_month = new_df1['reviews_per_month']\n",
    "price_paid = new_df1['price']\n",
    "\n",
    "ran_dict = {\n",
    "    \"Reviews\": reviews_month,\n",
    "    \"Price\": price_paid\n",
    "}\n",
    "\n",
    "new_df2 = pd.DataFrame(ran_dict)\n",
    "new_df3 = new_df2.dropna(axis=0, how='any', inplace=False)\n",
    "\n",
    "y = new_df3['Price']\n",
    "x = new_df3['Reviews']\n",
    "plt.scatter(x, y)\n",
    "plt.xticks(x, rotation=90,fontsize=2)\n",
    "plt.xlabel('Reviews per month')\n",
    "plt.ylabel('price per day')\n",
    "plt.title(\"Price Vs Reviews per Month\")\n",
    "#good_dataset_cap\n",
    "plt.show()"
   ]
  },
  {
   "cell_type": "code",
   "execution_count": 7,
   "metadata": {},
   "outputs": [
    {
     "name": "stdout",
     "output_type": "stream",
     "text": [
      "The correlation coefficient nan. The slope of the coefficient is -0.01. R2, slope, p-value\n"
     ]
    },
    {
     "name": "stderr",
     "output_type": "stream",
     "text": [
      "/Users/Derek/opt/anaconda3/lib/python3.7/site-packages/scipy/stats/stats.py:3399: PearsonRConstantInputWarning: An input array is constant; the correlation coefficent is not defined.\n",
      "  warnings.warn(PearsonRConstantInputWarning())\n"
     ]
    },
    {
     "data": {
      "text/plain": [
       "Ttest_indResult(statistic=-73.98229632041226, pvalue=3.744149354415662e-39)"
      ]
     },
     "execution_count": 7,
     "metadata": {},
     "output_type": "execute_result"
    }
   ],
   "source": [
    "print(f\"The correlation coefficient {round(st.pearsonr(x,y)[0],2)}. The slope of the coefficient is -0.01. R2, slope, p-value\")\n",
    "stats.ttest_ind(x, y, equal_var=False)"
   ]
  },
  {
   "cell_type": "code",
   "execution_count": 8,
   "metadata": {},
   "outputs": [
    {
     "data": {
      "image/png": "[encoded data removed]",
      "text/plain": [
       "<Figure size 432x288 with 1 Axes>"
      ]
     },
     "metadata": {
      "needs_background": "light"
     },
     "output_type": "display_data"
    }
   ],
   "source": [
    "vc_slope, vc_int, vc_r, vc_p, vc_std_err = stats.linregress(x, y)\n",
    "vc_fit = vc_slope * x + vc_int\n",
    "\n",
    "# year = crime_data.iloc[:,0]\n",
    "# violent_crime_rate = crime_data.iloc[:,3]\n",
    "plt.scatter(x,y)\n",
    "plt.plot(x,vc_fit,\"--\")\n",
    "plt.xticks(x, rotation=90)\n",
    "plt.xlabel('Reviews per month')\n",
    "plt.ylabel('price per day')\n",
    "plt.title(\"Price Vs Reviews per Month\")\n",
    "plt.show()"
   ]
  },
  {
   "cell_type": "code",
   "execution_count": 9,
   "metadata": {},
   "outputs": [
    {
     "data": {
      "image/png": "[encoded data removed]",
      "text/plain": [
       "<Figure size 432x288 with 1 Axes>"
      ]
     },
     "metadata": {
      "needs_background": "light"
     },
     "output_type": "display_data"
    }
   ],
   "source": [
    "# Q Any relationship between host_acceptance_rate and price per night for 1 bedroom listings\n",
    "# Varables: [‘price’] [‘host_acceptance_rate’] where [‘bedrooms’] == 1\n",
    "# H The higher number of host_acceptance_rate per month has a negative correlation with the price per night\n",
    "\n",
    "ran_var = air_df.loc[(air_df['bedrooms'] == 1)]\n",
    "ran_var = ran_var.loc[(air_df['price'] < 5000)]\n",
    "ran_var = ran_var.loc[(air_df['price'] > 20)]\n",
    "acc_rate = ran_var['host_acceptance_rate']\n",
    "# price_paid = new_df1['price']\n",
    "acc_dict = {\n",
    "    \"host_acceptance\": acc_rate,\n",
    "    \"Price_acc\": price_paid\n",
    "}\n",
    "\n",
    "\n",
    "\n",
    "acc_df2 = pd.DataFrame(acc_dict)\n",
    "acc_df3 = acc_df2.dropna(axis=0, how='any', inplace=False)\n",
    "\n",
    "y2 = acc_df3['Price_acc']\n",
    "x2 = acc_df3['host_acceptance']\n",
    "plt.scatter(x2, y2)\n",
    "plt.xticks(x2, rotation=90,fontsize=5)\n",
    "plt.xlabel('Host Acceptance Rate')\n",
    "plt.ylabel('Price per Day')\n",
    "plt.title(\"Price Vs Reviews per Month\")\n",
    "#good_dataset_cap\n",
    "plt.show()"
   ]
  },
  {
   "cell_type": "code",
   "execution_count": 10,
   "metadata": {},
   "outputs": [
    {
     "ename": "ValueError",
     "evalue": "Inputs must not be empty.",
     "output_type": "error",
     "traceback": [
      "\u001b[0;31m---------------------------------------------------------------------------\u001b[0m",
      "\u001b[0;31mValueError\u001b[0m                                Traceback (most recent call last)",
      "\u001b[0;32m<ipython-input-10-174a52cbfd51>\u001b[0m in \u001b[0;36m<module>\u001b[0;34m\u001b[0m\n\u001b[0;32m----> 1\u001b[0;31m \u001b[0mvc_slope\u001b[0m\u001b[0;34m,\u001b[0m \u001b[0mvc_int\u001b[0m\u001b[0;34m,\u001b[0m \u001b[0mvc_r\u001b[0m\u001b[0;34m,\u001b[0m \u001b[0mvc_p\u001b[0m\u001b[0;34m,\u001b[0m \u001b[0mvc_std_err\u001b[0m \u001b[0;34m=\u001b[0m \u001b[0mstats\u001b[0m\u001b[0;34m.\u001b[0m\u001b[0mlinregress\u001b[0m\u001b[0;34m(\u001b[0m\u001b[0mx2\u001b[0m\u001b[0;34m,\u001b[0m \u001b[0my2\u001b[0m\u001b[0;34m)\u001b[0m\u001b[0;34m\u001b[0m\u001b[0;34m\u001b[0m\u001b[0m\n\u001b[0m\u001b[1;32m      2\u001b[0m \u001b[0mvc_fit\u001b[0m \u001b[0;34m=\u001b[0m \u001b[0mvc_slope\u001b[0m \u001b[0;34m*\u001b[0m \u001b[0mx2\u001b[0m \u001b[0;34m+\u001b[0m \u001b[0mvc_int\u001b[0m\u001b[0;34m\u001b[0m\u001b[0;34m\u001b[0m\u001b[0m\n\u001b[1;32m      3\u001b[0m \u001b[0;34m\u001b[0m\u001b[0m\n\u001b[1;32m      4\u001b[0m \u001b[0;31m# year = crime_data.iloc[:,0]\u001b[0m\u001b[0;34m\u001b[0m\u001b[0;34m\u001b[0m\u001b[0;34m\u001b[0m\u001b[0m\n\u001b[1;32m      5\u001b[0m \u001b[0;31m# violent_crime_rate = crime_data.iloc[:,3]\u001b[0m\u001b[0;34m\u001b[0m\u001b[0;34m\u001b[0m\u001b[0;34m\u001b[0m\u001b[0m\n",
      "\u001b[0;32m~/opt/anaconda3/lib/python3.7/site-packages/scipy/stats/_stats_mstats_common.py\u001b[0m in \u001b[0;36mlinregress\u001b[0;34m(x, y)\u001b[0m\n\u001b[1;32m    107\u001b[0m \u001b[0;34m\u001b[0m\u001b[0m\n\u001b[1;32m    108\u001b[0m     \u001b[0;32mif\u001b[0m \u001b[0mx\u001b[0m\u001b[0;34m.\u001b[0m\u001b[0msize\u001b[0m \u001b[0;34m==\u001b[0m \u001b[0;36m0\u001b[0m \u001b[0;32mor\u001b[0m \u001b[0my\u001b[0m\u001b[0;34m.\u001b[0m\u001b[0msize\u001b[0m \u001b[0;34m==\u001b[0m \u001b[0;36m0\u001b[0m\u001b[0;34m:\u001b[0m\u001b[0;34m\u001b[0m\u001b[0;34m\u001b[0m\u001b[0m\n\u001b[0;32m--> 109\u001b[0;31m         \u001b[0;32mraise\u001b[0m \u001b[0mValueError\u001b[0m\u001b[0;34m(\u001b[0m\u001b[0;34m\"Inputs must not be empty.\"\u001b[0m\u001b[0;34m)\u001b[0m\u001b[0;34m\u001b[0m\u001b[0;34m\u001b[0m\u001b[0m\n\u001b[0m\u001b[1;32m    110\u001b[0m \u001b[0;34m\u001b[0m\u001b[0m\n\u001b[1;32m    111\u001b[0m     \u001b[0mn\u001b[0m \u001b[0;34m=\u001b[0m \u001b[0mlen\u001b[0m\u001b[0;34m(\u001b[0m\u001b[0mx\u001b[0m\u001b[0;34m)\u001b[0m\u001b[0;34m\u001b[0m\u001b[0;34m\u001b[0m\u001b[0m\n",
      "\u001b[0;31mValueError\u001b[0m: Inputs must not be empty."
     ]
    }
   ],
   "source": [
    "vc_slope, vc_int, vc_r, vc_p, vc_std_err = stats.linregress(x2, y2)\n",
    "vc_fit = vc_slope * x2 + vc_int\n",
    "\n",
    "# year = crime_data.iloc[:,0]\n",
    "# violent_crime_rate = crime_data.iloc[:,3]\n",
    "plt.scatter(x2,y2)\n",
    "plt.plot(x2,vc_fit,\"--\")\n",
    "plt.xticks(x2, rotation=90)\n",
    "plt.xlabel('Host Acceptance Rate')\n",
    "plt.ylabel('Price per Day')\n",
    "plt.title(\"Price Vs Reviews per Month\")\n",
    "plt.show()"
   ]
  },
  {
   "cell_type": "code",
   "execution_count": null,
   "metadata": {},
   "outputs": [],
   "source": [
    "print(f\"The correlation coefficient {round(st.pearsonr(x2,y2)[0],2)}. R2, slope, p-value\")\n",
    "stats.ttest_ind(x2, y2, equal_var=False)"
   ]
  },
  {
   "cell_type": "code",
   "execution_count": null,
   "metadata": {},
   "outputs": [],
   "source": [
    "# Q Relationship between price and square feet?\n",
    "# H Price has a positive correlation with square feet\n",
    "# Variables: [‘price’] and [‘square_feet’] where [‘bedrooms’] == 1 or [‘Accommodates’] == 2\n",
    "\n",
    "ran_var2 = air_df.loc[(air_df['bedrooms'] == 1)]\n",
    "ran_var2 = ran_var2.loc[(air_df['price'] < 5000)]\n",
    "ran_var2 = ran_var2.loc[(air_df['price'] > 20)]\n",
    "square_feet = ran_var2['square_feet']\n",
    "# price_paid = new_df1['price']\n",
    "square_dict = {\n",
    "    \"square_feet\": square_feet,\n",
    "    \"Price_sq\": price_paid\n",
    "}\n",
    "\n",
    "\n",
    "\n",
    "square_df2 = pd.DataFrame(square_dict)\n",
    "square_df3 = square_df2.dropna(axis=0, how='any', inplace=False)\n",
    "\n",
    "y3 = square_df3['Price_sq']\n",
    "x3 = square_df3['square_feet']\n",
    "plt.scatter(x3, y3)\n",
    "plt.xticks(x3, rotation=90,fontsize=5)\n",
    "plt.xlabel('Square Feet')\n",
    "plt.ylabel('Price per Day')\n",
    "plt.title(\"Price Vs Square Feet\")\n",
    "#good_dataset_cap\n",
    "#159 non null values for square feet\n",
    "plt.show()"
   ]
  },
  {
   "cell_type": "code",
   "execution_count": null,
   "metadata": {},
   "outputs": [],
   "source": [
    "vc_slope, vc_int, vc_r, vc_p, vc_std_err = stats.linregress(x3, y3)\n",
    "vc_fit = vc_slope * x3 + vc_int\n",
    "\n",
    "# year = crime_data.iloc[:,0]\n",
    "# violent_crime_rate = crime_data.iloc[:,3]\n",
    "plt.scatter(x3,y3)\n",
    "plt.plot(x3,vc_fit,\"--\")\n",
    "plt.xticks(x3, rotation=90)\n",
    "plt.xlabel('Square Feet')\n",
    "plt.ylabel('Price per Day')\n",
    "plt.title(\"Price Vs Square Feet\")\n",
    "plt.show()"
   ]
  },
  {
   "cell_type": "code",
   "execution_count": null,
   "metadata": {},
   "outputs": [],
   "source": [
    "print(f\"The correlation coefficient {round(st.pearsonr(x3,y3)[0],2)}. The slope of the coefficient is -0.03. R2, slope, p-value\")\n",
    "stats.ttest_ind(x3, y3, equal_var=False)"
   ]
  },
  {
   "cell_type": "code",
   "execution_count": null,
   "metadata": {},
   "outputs": [],
   "source": [
    "d = air_df.loc[(air_df['price'] == 0)]\n",
    "d"
   ]
  },
  {
   "cell_type": "code",
   "execution_count": null,
   "metadata": {},
   "outputs": [],
   "source": []
  }
 ],
 "metadata": {
  "kernelspec": {
   "display_name": "Python 3",
   "language": "python",
   "name": "python3"
  },
  "language_info": {
   "codemirror_mode": {
    "name": "ipython",
    "version": 3
   },
   "file_extension": ".py",
   "mimetype": "text/x-python",
   "name": "python",
   "nbconvert_exporter": "python",
   "pygments_lexer": "ipython3",
   "version": "3.7.4"
  }
 },
 "nbformat": 4,
 "nbformat_minor": 2
}
